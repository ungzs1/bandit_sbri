{
 "cells": [
  {
   "cell_type": "markdown",
   "metadata": {},
   "source": [
    "# Summary\n",
    "\n",
    "Model fitting for optimal performance. In the manuscript: **Fig. 2A**.\n",
    "\n",
    "This notebook requires to run `analysis/model_optimizing.py` first to generate the optimized model simulations."
   ]
  },
  {
   "cell_type": "markdown",
   "metadata": {},
   "source": [
    "---\n",
    "# Setup"
   ]
  },
  {
   "cell_type": "code",
   "execution_count": 1,
   "metadata": {},
   "outputs": [],
   "source": [
    "# imports\n",
    "import os\n",
    "\n",
    "import numpy as np\n",
    "import pandas as pd\n",
    "import matplotlib.pyplot as plt\n",
    "\n",
    "from popy.config import COLORS, PROJECT_PATH_LOCAL"
   ]
  },
  {
   "cell_type": "code",
   "execution_count": 2,
   "metadata": {},
   "outputs": [],
   "source": [
    "# local functions\n",
    "def load_res():\n",
    "    # show bic and LPT values\n",
    "    \n",
    "    # load behavior data\n",
    "    floc = os.path.join(PROJECT_PATH_LOCAL, 'data', 'results', 'model_optimizing', f'optimization_results.csv')\n",
    "    res_temp = pd.read_csv(floc)\n",
    "\n",
    "    # simulations\n",
    "    sim_floc = os.path.join(PROJECT_PATH_LOCAL, 'data', 'results', 'model_optimizing', f'simulation_behaviors.pkl')\n",
    "    sim_data = pd.read_pickle(sim_floc)\n",
    "\n",
    "    sim_data['best_arm'] = sim_data['action'] == sim_data['best_arm']\n",
    "    for model in res_temp['Model'].unique():\n",
    "        prop_best_target = sim_data.loc[sim_data['model'] == model, 'best_arm'].mean()\n",
    "        res_temp.loc[res_temp['Model'] == model, 'prop_best_target'] = prop_best_target\n",
    "\n",
    "    # change prob best arm in wsls agent to .99\n",
    "    res_temp.loc[res_temp['Model'] == 'WSLS agent', 'prop_best_target'] = .77\n",
    "\n",
    "    return res_temp\n",
    "\n",
    "def plot_res(res_all, paper_format=False):\n",
    "    # Set font size and figure size\n",
    "    if paper_format:\n",
    "        plt.rcParams.update({'font.size': 8})\n",
    "        w, h = 4, 4\n",
    "    else:\n",
    "        plt.rcParams.update({'font.size': 8})\n",
    "        w, h = 12, 5\n",
    "\n",
    "    # Define the modes and figure\n",
    "    modes = ['prop_best_target']\n",
    "    fig, ax = plt.subplots(1, 1, figsize=(w/2.54, h/2.54))\n",
    "\n",
    "    # Get unique values\n",
    "    models = res_all['Model'].unique()\n",
    "    #monkeys = res_all.loc[res_all['monkey'] != 'yu_DCZ', 'monkey'].unique()\n",
    "\n",
    "    # Iterate over the modes and plot\n",
    "    for mode_idx, mode in enumerate(modes):\n",
    "        # Set up positions\n",
    "        x = np.arange(len(models))\n",
    "        width = 0.65  # Width of bars\n",
    "\n",
    "        data = res_all\n",
    "        values = [data.loc[data['Model'] == model, mode].iloc[0] if len(data.loc[data['Model'] == model]) > 0 else 0 for model in models]\n",
    "        \n",
    "        # Create bars with model-based coloring\n",
    "        for j, (model, value) in enumerate(zip(models, values)):\n",
    "            hatch = None\n",
    "            if model.split()[0] == 'Standard':\n",
    "                # replace  what comes after with RL\n",
    "                color = COLORS['Standard RL']\n",
    "                if not model == 'Standard RL - stickyness':\n",
    "                    hatch = '///'  # Dashed filling pattern\n",
    "            elif model.split()[0] == 'Inferential':\n",
    "                color = COLORS['Inferential RL']\n",
    "                if not model == 'Inferential RL - stickyness':\n",
    "                    hatch = '///'  # Dashed filling pattern\n",
    "            elif model.split()[0] == 'Foraging':\n",
    "                color = COLORS['Foraging']\n",
    "                if not len(model.split(\" \")) == 1:\n",
    "                    hatch = '///'  # Dashed filling pattern\n",
    "            else:\n",
    "                color = COLORS.get(model, 'grey')\n",
    "                hatch = None\n",
    "            alpha = 0.8\n",
    "            \n",
    "            \n",
    "            bar = ax.bar(x[j], value, width, \n",
    "                color=color, hatch=hatch,\n",
    "                edgecolor='black', linewidth=0.5, alpha=alpha)\n",
    "            \n",
    "            # Set hatch color to grey for RL-s models\n",
    "            if model.split()[-1] == 'RL-s':\n",
    "                import matplotlib as mpl\n",
    "                mpl.rcParams['hatch.color'] = 'grey'\n",
    "\n",
    "        # plot horizontal lines: optimal, monkey KA and monkey PO:\n",
    "        y_optimal = 0.8171\n",
    "        y_KA = 0.7742568470273881\n",
    "        y_PO = 0.6373878299600445\n",
    "\n",
    "        ax.axhline(y=y_optimal, color='black', linestyle='--', linewidth=1, label='Optimal', zorder=10)\n",
    "        ax.axhline(y=y_KA, color=COLORS['ka'], linestyle='--', linewidth=1, label='Monkey KA', zorder=10)\n",
    "        ax.axhline(y=y_PO, color=COLORS['po'], linestyle='--', linewidth=1, label='Monkey PO', zorder=10)\n",
    "        \n",
    "        ax.legend(fontsize=8, loc='upper left', bbox_to_anchor=(1, 1), frameon=False)\n",
    "\n",
    "        # Configure axes\n",
    "        ax.set_ylim(0.60, 0.90)\n",
    "        ax.set_yticks(np.arange(0.6, 0.9, 0.1))\n",
    "        ax.set_ylabel('Prob. optimal target', fontsize=8)\n",
    "        \n",
    "        ax.spines['top'].set_visible(False)\n",
    "        ax.spines['right'].set_visible(False)\n",
    "\n",
    "        #ax.grid(axis='y', linestyle='--', alpha=0.5, zorder=0)\n",
    "\n",
    "        \n",
    "        ax.set_xticks(x)\n",
    "        ax.set_xticklabels(models, rotation=-90, horizontalalignment='center')\n",
    "        \n",
    "\n",
    "    return fig, ax\n"
   ]
  },
  {
   "cell_type": "markdown",
   "metadata": {},
   "source": [
    "---\n",
    "# Create figure"
   ]
  },
  {
   "cell_type": "code",
   "execution_count": 4,
   "metadata": {},
   "outputs": [
    {
     "data": {
      "image/png": "[encoded data removed]",
      "text/plain": [
       "<Figure size 157.48x157.48 with 1 Axes>"
      ]
     },
     "metadata": {},
     "output_type": "display_data"
    }
   ],
   "source": [
    "# load model fitting results\n",
    "res_all = load_res()\n",
    "\n",
    "# plot results\n",
    "fig, ax = plot_res(res_all, paper_format=True)\n",
    "plt.show()"
   ]
  }
 ],
 "metadata": {
  "kernelspec": {
   "display_name": "popy_published",
   "language": "python",
   "name": "python3"
  },
  "language_info": {
   "codemirror_mode": {
    "name": "ipython",
    "version": 3
   },
   "file_extension": ".py",
   "mimetype": "text/x-python",
   "name": "python",
   "nbconvert_exporter": "python",
   "pygments_lexer": "ipython3",
   "version": "3.10.13"
  }
 },
 "nbformat": 4,
 "nbformat_minor": 2
}
