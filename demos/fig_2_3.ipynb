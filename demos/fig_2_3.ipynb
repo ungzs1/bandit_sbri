{
 "cells": [
  {
   "cell_type": "markdown",
   "id": "73562e65",
   "metadata": {},
   "source": [
    "# Summary\n",
    "\n",
    "Parameter space vs. performance. In the manuscript: **Fig. 2C-D**."
   ]
  },
  {
   "cell_type": "markdown",
   "id": "aede12a4",
   "metadata": {},
   "source": [
    "---\n",
    "# Setup\n"
   ]
  },
  {
   "cell_type": "code",
   "execution_count": 1,
   "id": "bc4b8f11",
   "metadata": {},
   "outputs": [],
   "source": [
    "# imports\n",
    "import gymnasium as gym\n",
    "import numpy as np\n",
    "import matplotlib.pyplot as plt\n",
    "\n",
    "from popy.simulation_tools import QLearner, ForagingAgent\n",
    "from popy.simulation_helpers import simulate_agent\n",
    "from popy.config import COLORS\n",
    "import popy.config as cfg\n",
    "\n"
   ]
  },
  {
   "cell_type": "code",
   "execution_count": 2,
   "id": "cff660ba",
   "metadata": {},
   "outputs": [],
   "source": [
    "# local functions\n",
    "def grid_search_RL(env):\n",
    "    n_samples = 15  # number of samples in the grid search\n",
    "    alpha_range = np.linspace(.01, .5, n_samples)  # learning rate range\n",
    "\n",
    "    res_grid_qlearn_inferential = np.zeros(len(alpha_range))  # to store results\n",
    "        \n",
    "    for i, alpha in enumerate(alpha_range):\n",
    "        params_temp = {'alpha': alpha}\n",
    "        behavior_temp = simulate_agent(QLearner, params=params_temp, env=env, fixed_params={'structure_aware': True})  # simulate inferential Q-learning agent (structure-aware means inferential RL setup)\n",
    "\n",
    "        # compute proportion of best arm selections\n",
    "        prop_best_arm = (behavior_temp[\"best_arm\"].values == behavior_temp[\"action\"].values).mean()\n",
    "        res_grid_qlearn_inferential[i] = prop_best_arm \n",
    "\n",
    "    return alpha_range, res_grid_qlearn_inferential\n",
    "\n",
    "def plot_parameter_grid_RL(alpha_range, res_grid_qlearn_inferential):\n",
    "\n",
    "    # Set font sizes\n",
    "    plt.rcParams.update({'font.size': 8})\n",
    "\n",
    "    # Create a larger figure to accommodate the axis labels and colorbar\n",
    "    fig, ax = plt.subplots(1, 1, figsize=(4/2.54, 4/2.54))  # Slightly larger to fit everything\n",
    "\n",
    "    ax.plot(alpha_range, res_grid_qlearn_inferential, color='black')\n",
    "\n",
    "    # Add parameter points with compact styling\n",
    "    ka_params = cfg.MODEL_PARAMS_RL['ka']\n",
    "    po_params = cfg.MODEL_PARAMS_RL['po']\n",
    "\n",
    "    # plot lines for each parameter set\n",
    "    ax.axvline(ka_params['alpha'], color=COLORS['ka'])\n",
    "    ax.axvline(po_params['alpha'], color=COLORS['po'])\n",
    "\n",
    "    # mark the points\n",
    "    ax.scatter(ka_params['alpha'],\n",
    "            np.interp(ka_params['alpha'], alpha_range, res_grid_qlearn_inferential),\n",
    "            color=COLORS['ka'], s=60, zorder=5, linewidths=1, edgecolors='white', label='KA')\n",
    "    ax.scatter(po_params['alpha'],\n",
    "            np.interp(po_params['alpha'], alpha_range, res_grid_qlearn_inferential),\n",
    "            color=COLORS['po'], s=60, zorder=5, linewidths=1, edgecolors='white', label='PO')\n",
    "\n",
    "    ax.set_xlabel('Learning Rate (α)')\n",
    "    ax.set_ylabel('Prob. optimal target')\n",
    "\n",
    "    ax.set_xlim(0, .5)\n",
    "\n",
    "    ax.spines['top'].set_visible(False)\n",
    "    ax.spines['right'].set_visible(False)\n",
    "\n",
    "    # Add compact legend\n",
    "    ax.legend(frameon=True, loc='upper right', fontsize=6, markerscale=0.8)\n",
    "\n",
    "    return fig, ax\n",
    "\n",
    "def grid_search_foraging(env):\n",
    "    n_samples = 15  # number of samples in the grid search (per parameter)\n",
    "    alpha_range = np.linspace(.05, .8, n_samples)  # learning rate range\n",
    "    V0_range = np.linspace(0, .75, n_samples)\n",
    "\n",
    "    res_grid = np.zeros((len(alpha_range), len(V0_range)))  # to store results\n",
    "\n",
    "    for i, alpha in enumerate(alpha_range):\n",
    "        for j, V0 in enumerate(V0_range):\n",
    "            params_temp = {\n",
    "                'alpha': alpha,\n",
    "                'V0': V0\n",
    "            }\n",
    "            behavior = simulate_agent(ForagingAgent, params=params_temp, env=env, fixed_params={'reset_on_switch': True})  # simulate foraging agent (reset value on switching)\n",
    "\n",
    "            # compute proportion of best arm selection\n",
    "            prop_best_arm = (behavior[\"best_arm\"].values == behavior[\"action\"].values).mean()\n",
    "            res_grid[i, j] = prop_best_arm \n",
    "\n",
    "    return alpha_range, V0_range, res_grid\n",
    "\n",
    "def plot_parameter_grid_foraging(alpha_range, V0_range, res_grid):\n",
    "\n",
    "    # Set font sizes\n",
    "    plt.rcParams.update({'font.size': 8})\n",
    "\n",
    "    # Create a larger figure to accommodate the axis labels and colorbar\n",
    "    fig, ax = plt.subplots(1, 1, figsize=(6/2.54, 6/2.54))  # Slightly larger to fit everything\n",
    "\n",
    "    # Create nice colormap for the heatmap\n",
    "    cmap = plt.cm.cividis\n",
    "\n",
    "    im = ax.imshow(res_grid, origin='lower', \n",
    "                extent=[V0_range[0], V0_range[-1], alpha_range[0], alpha_range[-1]], \n",
    "                aspect='equal', interpolation='gaussian', cmap=cmap)\n",
    "    # Add colorbar with compact size\n",
    "    cbar = fig.colorbar(im, ax=ax, fraction=0.04, pad=0.1)\n",
    "    cbar.set_label('prob. optimal target', fontsize=8)\n",
    "\n",
    "    # Add contour lines at every 0.1 increment with minimal labels\n",
    "    levels = np.arange(0, 100, 10)\n",
    "    contour = ax.contour(\n",
    "        np.linspace(V0_range[0], V0_range[-1], res_grid.shape[1]),\n",
    "        np.linspace(alpha_range[0], alpha_range[-1], res_grid.shape[0]), \n",
    "        res_grid, levels=levels, colors='white', linewidths=0.5, alpha=0.7\n",
    "    )\n",
    "    # Only label a few contours to avoid clutter\n",
    "    ax.clabel(contour, inline=True, fontsize=6, fmt='%.0f', levels=levels)\n",
    "\n",
    "    # Add parameter points with compact styling\n",
    "    ka_params = cfg.MODEL_PARAMS['ka']\n",
    "    po_params = cfg.MODEL_PARAMS['po']\n",
    "\n",
    "    ax.scatter(ka_params['V0'], ka_params['alpha'], color=COLORS['ka'], s=50, label='KA', \n",
    "            edgecolor='white', linewidth=1, zorder=10)\n",
    "    ax.scatter(po_params['V0'], po_params['alpha'], color=COLORS['po'], s=50, label='PO', \n",
    "            edgecolor='white', linewidth=1, zorder=10)\n",
    "    \n",
    "    # Labels\n",
    "    ax.set_xlabel('Switch threshold (tau)')\n",
    "    ax.set_ylabel('Learning Rate (α)')\n",
    "\n",
    "    # Add compact legend\n",
    "    ax.legend(frameon=True, loc='upper right', fontsize=6, markerscale=0.8)\n",
    "\n",
    "    return fig, ax\n"
   ]
  },
  {
   "cell_type": "markdown",
   "id": "ca277a16",
   "metadata": {},
   "source": [
    "---\n",
    "# Set up environment"
   ]
  },
  {
   "cell_type": "code",
   "execution_count": 3,
   "id": "ed1302ab",
   "metadata": {},
   "outputs": [],
   "source": [
    "env = gym.make(\"zsombi/monkey-bandit-task-v0\", n_arms=3, max_episode_steps=100_000)"
   ]
  },
  {
   "cell_type": "markdown",
   "id": "6c9534ba",
   "metadata": {},
   "source": [
    "---\n",
    "# Create figures"
   ]
  },
  {
   "cell_type": "markdown",
   "id": "5d26c285",
   "metadata": {},
   "source": [
    "## Fig. 2C-D, Parameter space vs fitted model parameters"
   ]
  },
  {
   "cell_type": "code",
   "execution_count": 4,
   "id": "89be054c",
   "metadata": {},
   "outputs": [
    {
     "data": {
      "image/png": "[encoded data removed]",
      "text/plain": [
       "<Figure size 157.48x157.48 with 1 Axes>"
      ]
     },
     "metadata": {},
     "output_type": "display_data"
    }
   ],
   "source": [
    "alpha_range, res_grid_qlearn_inferential = grid_search_RL(env)\n",
    "fig, ax = plot_parameter_grid_RL(alpha_range, res_grid_qlearn_inferential)\n",
    "plt.show()"
   ]
  },
  {
   "cell_type": "code",
   "execution_count": null,
   "id": "e9d66fdd",
   "metadata": {},
   "outputs": [],
   "source": [
    "alpha_range, V0_range, res_grid = grid_search_foraging(env)\n",
    "fig, ax = plot_parameter_grid_foraging(alpha_range, V0_range, res_grid)\n",
    "plt.show()"
   ]
  }
 ],
 "metadata": {
  "kernelspec": {
   "display_name": "popy_published",
   "language": "python",
   "name": "python3"
  },
  "language_info": {
   "codemirror_mode": {
    "name": "ipython",
    "version": 3
   },
   "file_extension": ".py",
   "mimetype": "text/x-python",
   "name": "python",
   "nbconvert_exporter": "python",
   "pygments_lexer": "ipython3",
   "version": "3.10.13"
  }
 },
 "nbformat": 4,
 "nbformat_minor": 5
}
