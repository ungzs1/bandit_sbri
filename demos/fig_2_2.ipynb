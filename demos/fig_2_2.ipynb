{
 "cells": [
  {
   "cell_type": "markdown",
   "metadata": {},
   "source": [
    "# Summary\n",
    "\n",
    "Model fitting on animals' choices. In the manuscript: **Fig. 2B**.\n",
    "\n",
    "This notebook requires to run `analysis/model_fitting.py` first to fit models."
   ]
  },
  {
   "cell_type": "markdown",
   "metadata": {},
   "source": [
    "---\n",
    "# Setup"
   ]
  },
  {
   "cell_type": "code",
   "execution_count": 1,
   "metadata": {},
   "outputs": [],
   "source": [
    "# imports\n",
    "import os\n",
    "\n",
    "import numpy as np\n",
    "import pandas as pd\n",
    "import matplotlib.pyplot as plt\n",
    "\n",
    "from popy.config import COLORS, PROJECT_PATH_LOCAL"
   ]
  },
  {
   "cell_type": "code",
   "execution_count": 2,
   "metadata": {},
   "outputs": [],
   "source": [
    "# local functions\n",
    "def load_res():\n",
    "    # show bic and LPT values\n",
    "    dfs = []\n",
    "    for monkey in ['ka', 'po']:#:, 'yu_sham', 'yu_DCZ']:\n",
    "        # load behavior data\n",
    "        floc = os.path.join(PROJECT_PATH_LOCAL, 'data', 'results', 'model_fitting', f'simulation_results_{monkey}.csv')\n",
    "        res_temp = pd.read_csv(floc)\n",
    "\n",
    "        # add monkey name to the dataframe and move to first col\n",
    "        res_temp['monkey'] = monkey\n",
    "        \n",
    "\n",
    "        dfs.append(res_temp)\n",
    "    return pd.concat(dfs, ignore_index=True)\n",
    "\n",
    "def plot_res(res_all, paper_format=False):\n",
    "    # Set font size and figure size\n",
    "    if paper_format:\n",
    "        plt.rcParams.update({'font.size': 8})\n",
    "        w, h = 4, 4\n",
    "    else:\n",
    "        plt.rcParams.update({'font.size': 8})\n",
    "        w, h = 12, 5\n",
    "\n",
    "    # Define the modes and figure\n",
    "    modes = ['LPT_best']\n",
    "    fig, axes = plt.subplots(2, 1, figsize=(w/2.54, h/2.54), gridspec_kw={'hspace': 0.3})\n",
    "\n",
    "    # Get unique values\n",
    "    models = res_all.loc[res_all['monkey'] != 'yu_DCZ', 'Model'].unique()\n",
    "    monkeys = res_all.loc[res_all['monkey'] != 'yu_DCZ', 'monkey'].unique()\n",
    "\n",
    "    # Iterate over the modes and plot\n",
    "    for mode_idx, mode in enumerate(modes):\n",
    "        # Set up positions\n",
    "        x = np.arange(len(models))\n",
    "        width = 0.65  # Width of bars\n",
    "\n",
    "        for i, monkey in enumerate(monkeys):\n",
    "            ax = axes[i]  # Use separate subplot for each monkey\n",
    "            \n",
    "            data = res_all.loc[(res_all['monkey'] == monkey) & (res_all['monkey'] != 'yu_DCZ')]\n",
    "            values = [data.loc[data['Model'] == model, mode].iloc[0] if len(data.loc[data['Model'] == model]) > 0 else 0 for model in models]\n",
    "            \n",
    "            # Create bars with model-based coloring\n",
    "            for j, (model, value) in enumerate(zip(models, values)):\n",
    "                hatch = None\n",
    "                if model.split()[0] == 'Standard':\n",
    "                    # replace  what comes after with RL\n",
    "                    color = COLORS['Standard RL']\n",
    "                    if not model == 'Standard RL - stickyness':\n",
    "                        hatch = '///'  # Dashed filling pattern\n",
    "                elif model.split()[0] == 'Inferential':\n",
    "                    color = COLORS['Inferential RL']\n",
    "                    if not model == 'Inferential RL - stickyness':\n",
    "                        hatch = '///'  # Dashed filling pattern\n",
    "                elif model.split()[0] == 'Foraging':\n",
    "                    color = COLORS['Foraging']\n",
    "                    if not len(model.split(\" \")) == 1:\n",
    "                        hatch = '///'  # Dashed filling pattern\n",
    "                else:\n",
    "                    color = COLORS.get(model, 'grey')\n",
    "                    hatch = None\n",
    "                alpha = 0.8\n",
    "                \n",
    "                \n",
    "                bar = ax.bar(x[j], value, width, \n",
    "                    color=color, hatch=hatch,\n",
    "                    edgecolor='black', linewidth=0.5, alpha=alpha)\n",
    "                \n",
    "                # Set hatch color to grey for RL-s models\n",
    "                if model.split()[-1] == 'RL-s':\n",
    "                    import matplotlib as mpl\n",
    "                    mpl.rcParams['hatch.color'] = 'grey'\n",
    "            \n",
    "            # add monkey name (capitalized) as title, y axis a bit lower\n",
    "            ax.set_title(monkey.upper(), fontsize=10, y=.85)\n",
    "\n",
    "            # Configure axes\n",
    "            ax.set_ylim(0.33, 0.85)\n",
    "            ax.set_yticks(np.arange(0.4, 0.9, 0.2))\n",
    "            ax.set_ylabel('LPT', fontsize=8)\n",
    "            \n",
    "            ax.spines['top'].set_visible(False)\n",
    "            ax.spines['right'].set_visible(False)\n",
    "\n",
    "            ax.grid(axis='y', linestyle='dotted', alpha=0.5, zorder=0)\n",
    "\n",
    "            # Only add x-axis labels to bottom plot\n",
    "            if i == len(monkeys) - 1:  # Bottom plot\n",
    "                ax.set_xticks(x)\n",
    "                ax.set_xticklabels(models, rotation=-90, horizontalalignment='center')\n",
    "            else:  # Top plot\n",
    "                ax.set_xticks(x)\n",
    "                ax.set_xticklabels([])  # Remove x-axis labels from top plot\n",
    "\n",
    "    return fig, axes\n"
   ]
  },
  {
   "cell_type": "markdown",
   "metadata": {},
   "source": [
    "---\n",
    "# Create figure"
   ]
  },
  {
   "cell_type": "code",
   "execution_count": 3,
   "metadata": {},
   "outputs": [],
   "source": [
    "res_all = load_res()\n",
    "#res_all"
   ]
  },
  {
   "cell_type": "code",
   "execution_count": 4,
   "metadata": {},
   "outputs": [
    {
     "data": {
      "image/png": "[encoded data removed]",
      "text/plain": [
       "<Figure size 472.441x196.85 with 2 Axes>"
      ]
     },
     "metadata": {},
     "output_type": "display_data"
    }
   ],
   "source": [
    "fig, ax = plot_res(res_all, paper_format=False)\n",
    "plt.show()"
   ]
  }
 ],
 "metadata": {
  "kernelspec": {
   "display_name": "popy_published",
   "language": "python",
   "name": "python3"
  },
  "language_info": {
   "codemirror_mode": {
    "name": "ipython",
    "version": 3
   },
   "file_extension": ".py",
   "mimetype": "text/x-python",
   "name": "python",
   "nbconvert_exporter": "python",
   "pygments_lexer": "ipython3",
   "version": "3.10.13"
  }
 },
 "nbformat": 4,
 "nbformat_minor": 2
}
